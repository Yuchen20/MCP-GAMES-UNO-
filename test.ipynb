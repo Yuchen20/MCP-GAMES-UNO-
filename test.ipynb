{
 "cells": [
  {
   "cell_type": "code",
   "execution_count": 1,
   "metadata": {},
   "outputs": [],
   "source": [
    "from dotenv import load_dotenv\n",
    "import os\n",
    "from google import genai\n",
    "from google.genai import types\n",
    "\n",
    "load_dotenv()\n",
    "\n",
    "api_key = os.getenv(\"GOOGLE_API_KEY\")\n",
    "client = genai.Client(api_key=api_key)\n",
    "\n",
    "\n"
   ]
  },
  {
   "cell_type": "code",
   "execution_count": 8,
   "metadata": {},
   "outputs": [],
   "source": [
    "result = client.models.embed_content(\n",
    "        model=\"gemini-embedding-exp-03-07\",\n",
    "        contents='I am a young man',\n",
    "        config=types.EmbedContentConfig(task_type='RETRIEVAL_DOCUMENT', output_dimensionality=768)\n",
    "\n",
    "    )"
   ]
  },
  {
   "cell_type": "code",
   "execution_count": 9,
   "metadata": {},
   "outputs": [
    {
     "data": {
      "text/plain": [
       "768"
      ]
     },
     "execution_count": 9,
     "metadata": {},
     "output_type": "execute_result"
    }
   ],
   "source": [
    "len(result.embeddings[0].values)"
   ]
  },
  {
   "cell_type": "code",
   "execution_count": 5,
   "metadata": {},
   "outputs": [
    {
     "data": {
      "text/plain": [
       "True"
      ]
     },
     "execution_count": 5,
     "metadata": {},
     "output_type": "execute_result"
    }
   ],
   "source": [
    "os.path.exists(data_url)"
   ]
  },
  {
   "cell_type": "code",
   "execution_count": 7,
   "metadata": {},
   "outputs": [
    {
     "name": "stdout",
     "output_type": "stream",
     "text": [
      "db_path exists: True, readable: True\n",
      "zip_path parent writable: True\n"
     ]
    }
   ],
   "source": [
    "import os\n",
    "from pathlib import Path\n",
    "import boto3\n",
    "from dotenv import load_dotenv\n",
    "\n",
    "load_dotenv()\n",
    "\n",
    "\n",
    "def get_app_dir():\n",
    "    \"\"\"Get the application directory path\"\"\"\n",
    "    app_dir = Path(os.path.expanduser(\"~\")) / \".brain_in_a_vat\"\n",
    "    app_dir.mkdir(parents=True, exist_ok=True)\n",
    "    return app_dir\n",
    "\n",
    "db_path = str(get_app_dir() / \"memory_db\")\n",
    "print(f\"db_path exists: {os.path.exists(db_path)}, readable: {os.access(db_path, os.R_OK)}\")\n",
    "zip_path = get_app_dir() / f\"memory_db_960e287d-a044-480c-bb6d-d4a91d7d4521.zip\"\n",
    "print(f\"zip_path parent writable: {os.access(zip_path.parent, os.W_OK)}\")\n",
    "\n",
    "s3_client = boto3.client('s3',\n",
    "            aws_access_key_id=os.getenv('AWS_ACCESS_KEY_ID'),\n",
    "            aws_secret_access_key=os.getenv('AWS_SECRET_ACCESS_KEY')\n",
    "        )\n",
    "bucket_name = os.getenv('AWS_BUCKET_NAME')\n",
    "s3_client.upload_file(\n",
    "                str(zip_path),\n",
    "                bucket_name,\n",
    "                f\"memory_db/960e287d-a044-480c-bb6d-d4a91d7d4521/memory_db.zip\",\n",
    "            )\n"
   ]
  }
 ],
 "metadata": {
  "kernelspec": {
   "display_name": "venv",
   "language": "python",
   "name": "python3"
  },
  "language_info": {
   "codemirror_mode": {
    "name": "ipython",
    "version": 3
   },
   "file_extension": ".py",
   "mimetype": "text/x-python",
   "name": "python",
   "nbconvert_exporter": "python",
   "pygments_lexer": "ipython3",
   "version": "3.11.5"
  }
 },
 "nbformat": 4,
 "nbformat_minor": 2
}
