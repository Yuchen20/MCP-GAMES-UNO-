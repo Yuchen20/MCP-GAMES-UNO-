{
 "cells": [
  {
   "cell_type": "code",
   "execution_count": 1,
   "metadata": {},
   "outputs": [],
   "source": [
    "from dotenv import load_dotenv\n",
    "import os\n",
    "from google import genai\n",
    "from google.genai import types\n",
    "\n",
    "load_dotenv()\n",
    "\n",
    "api_key = os.getenv(\"GOOGLE_API_KEY\")\n",
    "client = genai.Client(api_key=api_key)\n",
    "\n",
    "\n"
   ]
  },
  {
   "cell_type": "code",
   "execution_count": 8,
   "metadata": {},
   "outputs": [],
   "source": [
    "result = client.models.embed_content(\n",
    "        model=\"gemini-embedding-exp-03-07\",\n",
    "        contents='I am a young man',\n",
    "        config=types.EmbedContentConfig(task_type='RETRIEVAL_DOCUMENT', output_dimensionality=768)\n",
    "\n",
    "    )"
   ]
  },
  {
   "cell_type": "code",
   "execution_count": 9,
   "metadata": {},
   "outputs": [
    {
     "data": {
      "text/plain": [
       "768"
      ]
     },
     "execution_count": 9,
     "metadata": {},
     "output_type": "execute_result"
    }
   ],
   "source": [
    "len(result.embeddings[0].values)"
   ]
  },
  {
   "cell_type": "code",
   "execution_count": 5,
   "metadata": {},
   "outputs": [
    {
     "data": {
      "text/plain": [
       "True"
      ]
     },
     "execution_count": 5,
     "metadata": {},
     "output_type": "execute_result"
    }
   ],
   "source": [
    "os.path.exists(data_url)"
   ]
  },
  {
   "cell_type": "code",
   "execution_count": 7,
   "metadata": {},
   "outputs": [
    {
     "name": "stdout",
     "output_type": "stream",
     "text": [
      "db_path exists: True, readable: True\n",
      "zip_path parent writable: True\n"
     ]
    }
   ],
   "source": [
    "import os\n",
    "from pathlib import Path\n",
    "import boto3\n",
    "from dotenv import load_dotenv\n",
    "\n",
    "load_dotenv()\n",
    "\n",
    "\n",
    "def get_app_dir():\n",
    "    \"\"\"Get the application directory path\"\"\"\n",
    "    app_dir = Path(os.path.expanduser(\"~\")) / \".brain_in_a_vat\"\n",
    "    app_dir.mkdir(parents=True, exist_ok=True)\n",
    "    return app_dir\n",
    "\n",
    "db_path = str(get_app_dir() / \"memory_db\")\n",
    "print(f\"db_path exists: {os.path.exists(db_path)}, readable: {os.access(db_path, os.R_OK)}\")\n",
    "zip_path = get_app_dir() / f\"memory_db_960e287d-a044-480c-bb6d-d4a91d7d4521.zip\"\n",
    "print(f\"zip_path parent writable: {os.access(zip_path.parent, os.W_OK)}\")\n",
    "\n",
    "s3_client = boto3.client('s3',\n",
    "            aws_access_key_id=os.getenv('AWS_ACCESS_KEY_ID'),\n",
    "            aws_secret_access_key=os.getenv('AWS_SECRET_ACCESS_KEY')\n",
    "        )\n",
    "bucket_name = os.getenv('AWS_BUCKET_NAME')\n",
    "s3_client.upload_file(\n",
    "                str(zip_path),\n",
    "                bucket_name,\n",
    "                f\"memory_db/960e287d-a044-480c-bb6d-d4a91d7d4521/memory_db.zip\",\n",
    "            )\n"
   ]
  },
  {
   "cell_type": "code",
   "execution_count": 16,
   "metadata": {},
   "outputs": [
    {
     "data": {
      "application/vnd.plotly.v1+json": {
       "config": {
        "plotlyServerURL": "https://plot.ly"
       },
       "data": [
        {
         "colorscale": [
          [
           0,
           "rgb(247,251,255)"
          ],
          [
           0.125,
           "rgb(222,235,247)"
          ],
          [
           0.25,
           "rgb(198,219,239)"
          ],
          [
           0.375,
           "rgb(158,202,225)"
          ],
          [
           0.5,
           "rgb(107,174,214)"
          ],
          [
           0.625,
           "rgb(66,146,198)"
          ],
          [
           0.75,
           "rgb(33,113,181)"
          ],
          [
           0.875,
           "rgb(8,81,156)"
          ],
          [
           1,
           "rgb(8,48,107)"
          ]
         ],
         "contours": {
          "coloring": "fill",
          "showlabels": false
         },
         "hovertemplate": "x=%{x}<br>y=%{y}<br>count=%{z}<extra></extra>",
         "legendgroup": "",
         "line": {
          "color": "#636efa"
         },
         "name": "",
         "nbinsx": 5,
         "nbinsy": 5,
         "opacity": 0.7,
         "showlegend": false,
         "showscale": false,
         "type": "histogram2dcontour",
         "x": {
          "bdata": "ECYVRUX5C0CaFwlUdy4NQJyFCjJ0IAZAAh0QKh1REkAvzJA2hD4EQL7qF2aNxhlAwY/Pv1IpHUD6IYXEa7gTQMKa6OBuIxdAm/L3UjikF0A=",
          "dtype": "f8"
         },
         "xaxis": "x",
         "xbingroup": "x",
         "y": {
          "bdata": "rR+ir9XkBkCLaoAjlRcSQEzymM18IAZA/TW80bQjDkBfi1q4KVcMQJxHXha2wxlAR1aFE/bQEkBYnTSjD00ZQEJ9zqklgh1Aq5OTq484FUA=",
          "dtype": "f8"
         },
         "yaxis": "y",
         "ybingroup": "y"
        },
        {
         "customdata": [
          [
           "Topic 1\nDetail Line a",
           "2025-04-26 16:56"
          ],
          [
           "Topic 2\nDetail Line b",
           "2025-04-22 16:56"
          ],
          [
           "Topic 3\nDetail Line c",
           "2025-04-29 16:56"
          ],
          [
           "Topic 4\nDetail Line d",
           "2025-04-18 16:56"
          ],
          [
           "Topic 5\nDetail Line e",
           "2025-04-21 16:56"
          ],
          [
           "Topic 6\nDetail Line f",
           "2025-04-16 16:56"
          ],
          [
           "Topic 7\nDetail Line g",
           "2025-05-08 16:56"
          ],
          [
           "Topic 8\nDetail Line h",
           "2025-05-06 16:56"
          ],
          [
           "Topic 9\nDetail Line i",
           "2025-04-22 16:56"
          ],
          [
           "Topic 10\nDetail Line j",
           "2025-05-04 16:56"
          ]
         ],
         "hovertemplate": "x=%{x}<br>y=%{y}<br>content=%{customdata[0]}<br>timestamp=%{customdata[1]}<extra></extra>",
         "legendgroup": "",
         "marker": {
          "color": "#222",
          "opacity": 0.7,
          "symbol": "circle"
         },
         "mode": "markers",
         "name": "",
         "orientation": "v",
         "showlegend": false,
         "type": "scatter",
         "x": {
          "bdata": "ECYVRUX5C0CaFwlUdy4NQJyFCjJ0IAZAAh0QKh1REkAvzJA2hD4EQL7qF2aNxhlAwY/Pv1IpHUD6IYXEa7gTQMKa6OBuIxdAm/L3UjikF0A=",
          "dtype": "f8"
         },
         "xaxis": "x",
         "y": {
          "bdata": "rR+ir9XkBkCLaoAjlRcSQEzymM18IAZA/TW80bQjDkBfi1q4KVcMQJxHXha2wxlAR1aFE/bQEkBYnTSjD00ZQEJ9zqklgh1Aq5OTq484FUA=",
          "dtype": "f8"
         },
         "yaxis": "y"
        }
       ],
       "layout": {
        "legend": {
         "tracegroupgap": 0
        },
        "margin": {
         "b": 20,
         "l": 20,
         "r": 20,
         "t": 50
        },
        "showlegend": false,
        "template": {
         "data": {
          "bar": [
           {
            "error_x": {
             "color": "#2a3f5f"
            },
            "error_y": {
             "color": "#2a3f5f"
            },
            "marker": {
             "line": {
              "color": "white",
              "width": 0.5
             },
             "pattern": {
              "fillmode": "overlay",
              "size": 10,
              "solidity": 0.2
             }
            },
            "type": "bar"
           }
          ],
          "barpolar": [
           {
            "marker": {
             "line": {
              "color": "white",
              "width": 0.5
             },
             "pattern": {
              "fillmode": "overlay",
              "size": 10,
              "solidity": 0.2
             }
            },
            "type": "barpolar"
           }
          ],
          "carpet": [
           {
            "aaxis": {
             "endlinecolor": "#2a3f5f",
             "gridcolor": "#C8D4E3",
             "linecolor": "#C8D4E3",
             "minorgridcolor": "#C8D4E3",
             "startlinecolor": "#2a3f5f"
            },
            "baxis": {
             "endlinecolor": "#2a3f5f",
             "gridcolor": "#C8D4E3",
             "linecolor": "#C8D4E3",
             "minorgridcolor": "#C8D4E3",
             "startlinecolor": "#2a3f5f"
            },
            "type": "carpet"
           }
          ],
          "choropleth": [
           {
            "colorbar": {
             "outlinewidth": 0,
             "ticks": ""
            },
            "type": "choropleth"
           }
          ],
          "contour": [
           {
            "colorbar": {
             "outlinewidth": 0,
             "ticks": ""
            },
            "colorscale": [
             [
              0,
              "#0d0887"
             ],
             [
              0.1111111111111111,
              "#46039f"
             ],
             [
              0.2222222222222222,
              "#7201a8"
             ],
             [
              0.3333333333333333,
              "#9c179e"
             ],
             [
              0.4444444444444444,
              "#bd3786"
             ],
             [
              0.5555555555555556,
              "#d8576b"
             ],
             [
              0.6666666666666666,
              "#ed7953"
             ],
             [
              0.7777777777777778,
              "#fb9f3a"
             ],
             [
              0.8888888888888888,
              "#fdca26"
             ],
             [
              1,
              "#f0f921"
             ]
            ],
            "type": "contour"
           }
          ],
          "contourcarpet": [
           {
            "colorbar": {
             "outlinewidth": 0,
             "ticks": ""
            },
            "type": "contourcarpet"
           }
          ],
          "heatmap": [
           {
            "colorbar": {
             "outlinewidth": 0,
             "ticks": ""
            },
            "colorscale": [
             [
              0,
              "#0d0887"
             ],
             [
              0.1111111111111111,
              "#46039f"
             ],
             [
              0.2222222222222222,
              "#7201a8"
             ],
             [
              0.3333333333333333,
              "#9c179e"
             ],
             [
              0.4444444444444444,
              "#bd3786"
             ],
             [
              0.5555555555555556,
              "#d8576b"
             ],
             [
              0.6666666666666666,
              "#ed7953"
             ],
             [
              0.7777777777777778,
              "#fb9f3a"
             ],
             [
              0.8888888888888888,
              "#fdca26"
             ],
             [
              1,
              "#f0f921"
             ]
            ],
            "type": "heatmap"
           }
          ],
          "histogram": [
           {
            "marker": {
             "pattern": {
              "fillmode": "overlay",
              "size": 10,
              "solidity": 0.2
             }
            },
            "type": "histogram"
           }
          ],
          "histogram2d": [
           {
            "colorbar": {
             "outlinewidth": 0,
             "ticks": ""
            },
            "colorscale": [
             [
              0,
              "#0d0887"
             ],
             [
              0.1111111111111111,
              "#46039f"
             ],
             [
              0.2222222222222222,
              "#7201a8"
             ],
             [
              0.3333333333333333,
              "#9c179e"
             ],
             [
              0.4444444444444444,
              "#bd3786"
             ],
             [
              0.5555555555555556,
              "#d8576b"
             ],
             [
              0.6666666666666666,
              "#ed7953"
             ],
             [
              0.7777777777777778,
              "#fb9f3a"
             ],
             [
              0.8888888888888888,
              "#fdca26"
             ],
             [
              1,
              "#f0f921"
             ]
            ],
            "type": "histogram2d"
           }
          ],
          "histogram2dcontour": [
           {
            "colorbar": {
             "outlinewidth": 0,
             "ticks": ""
            },
            "colorscale": [
             [
              0,
              "#0d0887"
             ],
             [
              0.1111111111111111,
              "#46039f"
             ],
             [
              0.2222222222222222,
              "#7201a8"
             ],
             [
              0.3333333333333333,
              "#9c179e"
             ],
             [
              0.4444444444444444,
              "#bd3786"
             ],
             [
              0.5555555555555556,
              "#d8576b"
             ],
             [
              0.6666666666666666,
              "#ed7953"
             ],
             [
              0.7777777777777778,
              "#fb9f3a"
             ],
             [
              0.8888888888888888,
              "#fdca26"
             ],
             [
              1,
              "#f0f921"
             ]
            ],
            "type": "histogram2dcontour"
           }
          ],
          "mesh3d": [
           {
            "colorbar": {
             "outlinewidth": 0,
             "ticks": ""
            },
            "type": "mesh3d"
           }
          ],
          "parcoords": [
           {
            "line": {
             "colorbar": {
              "outlinewidth": 0,
              "ticks": ""
             }
            },
            "type": "parcoords"
           }
          ],
          "pie": [
           {
            "automargin": true,
            "type": "pie"
           }
          ],
          "scatter": [
           {
            "fillpattern": {
             "fillmode": "overlay",
             "size": 10,
             "solidity": 0.2
            },
            "type": "scatter"
           }
          ],
          "scatter3d": [
           {
            "line": {
             "colorbar": {
              "outlinewidth": 0,
              "ticks": ""
             }
            },
            "marker": {
             "colorbar": {
              "outlinewidth": 0,
              "ticks": ""
             }
            },
            "type": "scatter3d"
           }
          ],
          "scattercarpet": [
           {
            "marker": {
             "colorbar": {
              "outlinewidth": 0,
              "ticks": ""
             }
            },
            "type": "scattercarpet"
           }
          ],
          "scattergeo": [
           {
            "marker": {
             "colorbar": {
              "outlinewidth": 0,
              "ticks": ""
             }
            },
            "type": "scattergeo"
           }
          ],
          "scattergl": [
           {
            "marker": {
             "colorbar": {
              "outlinewidth": 0,
              "ticks": ""
             }
            },
            "type": "scattergl"
           }
          ],
          "scattermap": [
           {
            "marker": {
             "colorbar": {
              "outlinewidth": 0,
              "ticks": ""
             }
            },
            "type": "scattermap"
           }
          ],
          "scattermapbox": [
           {
            "marker": {
             "colorbar": {
              "outlinewidth": 0,
              "ticks": ""
             }
            },
            "type": "scattermapbox"
           }
          ],
          "scatterpolar": [
           {
            "marker": {
             "colorbar": {
              "outlinewidth": 0,
              "ticks": ""
             }
            },
            "type": "scatterpolar"
           }
          ],
          "scatterpolargl": [
           {
            "marker": {
             "colorbar": {
              "outlinewidth": 0,
              "ticks": ""
             }
            },
            "type": "scatterpolargl"
           }
          ],
          "scatterternary": [
           {
            "marker": {
             "colorbar": {
              "outlinewidth": 0,
              "ticks": ""
             }
            },
            "type": "scatterternary"
           }
          ],
          "surface": [
           {
            "colorbar": {
             "outlinewidth": 0,
             "ticks": ""
            },
            "colorscale": [
             [
              0,
              "#0d0887"
             ],
             [
              0.1111111111111111,
              "#46039f"
             ],
             [
              0.2222222222222222,
              "#7201a8"
             ],
             [
              0.3333333333333333,
              "#9c179e"
             ],
             [
              0.4444444444444444,
              "#bd3786"
             ],
             [
              0.5555555555555556,
              "#d8576b"
             ],
             [
              0.6666666666666666,
              "#ed7953"
             ],
             [
              0.7777777777777778,
              "#fb9f3a"
             ],
             [
              0.8888888888888888,
              "#fdca26"
             ],
             [
              1,
              "#f0f921"
             ]
            ],
            "type": "surface"
           }
          ],
          "table": [
           {
            "cells": {
             "fill": {
              "color": "#EBF0F8"
             },
             "line": {
              "color": "white"
             }
            },
            "header": {
             "fill": {
              "color": "#C8D4E3"
             },
             "line": {
              "color": "white"
             }
            },
            "type": "table"
           }
          ]
         },
         "layout": {
          "annotationdefaults": {
           "arrowcolor": "#2a3f5f",
           "arrowhead": 0,
           "arrowwidth": 1
          },
          "autotypenumbers": "strict",
          "coloraxis": {
           "colorbar": {
            "outlinewidth": 0,
            "ticks": ""
           }
          },
          "colorscale": {
           "diverging": [
            [
             0,
             "#8e0152"
            ],
            [
             0.1,
             "#c51b7d"
            ],
            [
             0.2,
             "#de77ae"
            ],
            [
             0.3,
             "#f1b6da"
            ],
            [
             0.4,
             "#fde0ef"
            ],
            [
             0.5,
             "#f7f7f7"
            ],
            [
             0.6,
             "#e6f5d0"
            ],
            [
             0.7,
             "#b8e186"
            ],
            [
             0.8,
             "#7fbc41"
            ],
            [
             0.9,
             "#4d9221"
            ],
            [
             1,
             "#276419"
            ]
           ],
           "sequential": [
            [
             0,
             "#0d0887"
            ],
            [
             0.1111111111111111,
             "#46039f"
            ],
            [
             0.2222222222222222,
             "#7201a8"
            ],
            [
             0.3333333333333333,
             "#9c179e"
            ],
            [
             0.4444444444444444,
             "#bd3786"
            ],
            [
             0.5555555555555556,
             "#d8576b"
            ],
            [
             0.6666666666666666,
             "#ed7953"
            ],
            [
             0.7777777777777778,
             "#fb9f3a"
            ],
            [
             0.8888888888888888,
             "#fdca26"
            ],
            [
             1,
             "#f0f921"
            ]
           ],
           "sequentialminus": [
            [
             0,
             "#0d0887"
            ],
            [
             0.1111111111111111,
             "#46039f"
            ],
            [
             0.2222222222222222,
             "#7201a8"
            ],
            [
             0.3333333333333333,
             "#9c179e"
            ],
            [
             0.4444444444444444,
             "#bd3786"
            ],
            [
             0.5555555555555556,
             "#d8576b"
            ],
            [
             0.6666666666666666,
             "#ed7953"
            ],
            [
             0.7777777777777778,
             "#fb9f3a"
            ],
            [
             0.8888888888888888,
             "#fdca26"
            ],
            [
             1,
             "#f0f921"
            ]
           ]
          },
          "colorway": [
           "#636efa",
           "#EF553B",
           "#00cc96",
           "#ab63fa",
           "#FFA15A",
           "#19d3f3",
           "#FF6692",
           "#B6E880",
           "#FF97FF",
           "#FECB52"
          ],
          "font": {
           "color": "#2a3f5f"
          },
          "geo": {
           "bgcolor": "white",
           "lakecolor": "white",
           "landcolor": "white",
           "showlakes": true,
           "showland": true,
           "subunitcolor": "#C8D4E3"
          },
          "hoverlabel": {
           "align": "left"
          },
          "hovermode": "closest",
          "mapbox": {
           "style": "light"
          },
          "paper_bgcolor": "white",
          "plot_bgcolor": "white",
          "polar": {
           "angularaxis": {
            "gridcolor": "#EBF0F8",
            "linecolor": "#EBF0F8",
            "ticks": ""
           },
           "bgcolor": "white",
           "radialaxis": {
            "gridcolor": "#EBF0F8",
            "linecolor": "#EBF0F8",
            "ticks": ""
           }
          },
          "scene": {
           "xaxis": {
            "backgroundcolor": "white",
            "gridcolor": "#DFE8F3",
            "gridwidth": 2,
            "linecolor": "#EBF0F8",
            "showbackground": true,
            "ticks": "",
            "zerolinecolor": "#EBF0F8"
           },
           "yaxis": {
            "backgroundcolor": "white",
            "gridcolor": "#DFE8F3",
            "gridwidth": 2,
            "linecolor": "#EBF0F8",
            "showbackground": true,
            "ticks": "",
            "zerolinecolor": "#EBF0F8"
           },
           "zaxis": {
            "backgroundcolor": "white",
            "gridcolor": "#DFE8F3",
            "gridwidth": 2,
            "linecolor": "#EBF0F8",
            "showbackground": true,
            "ticks": "",
            "zerolinecolor": "#EBF0F8"
           }
          },
          "shapedefaults": {
           "line": {
            "color": "#2a3f5f"
           }
          },
          "ternary": {
           "aaxis": {
            "gridcolor": "#DFE8F3",
            "linecolor": "#A2B1C6",
            "ticks": ""
           },
           "baxis": {
            "gridcolor": "#DFE8F3",
            "linecolor": "#A2B1C6",
            "ticks": ""
           },
           "bgcolor": "white",
           "caxis": {
            "gridcolor": "#DFE8F3",
            "linecolor": "#A2B1C6",
            "ticks": ""
           }
          },
          "title": {
           "x": 0.05
          },
          "xaxis": {
           "automargin": true,
           "gridcolor": "#EBF0F8",
           "linecolor": "#EBF0F8",
           "ticks": "",
           "title": {
            "standoff": 15
           },
           "zerolinecolor": "#EBF0F8",
           "zerolinewidth": 2
          },
          "yaxis": {
           "automargin": true,
           "gridcolor": "#EBF0F8",
           "linecolor": "#EBF0F8",
           "ticks": "",
           "title": {
            "standoff": 15
           },
           "zerolinecolor": "#EBF0F8",
           "zerolinewidth": 2
          }
         }
        },
        "title": {
         "text": "Memory Embeddings Visualization",
         "x": 0.5
        },
        "xaxis": {
         "anchor": "y",
         "domain": [
          0,
          1
         ],
         "showgrid": false,
         "title": {
          "text": "x"
         },
         "visible": false,
         "zeroline": false
        },
        "yaxis": {
         "anchor": "x",
         "domain": [
          0,
          1
         ],
         "showgrid": false,
         "title": {
          "text": "y"
         },
         "visible": false,
         "zeroline": false
        }
       }
      }
     },
     "metadata": {},
     "output_type": "display_data"
    }
   ],
   "source": [
    "import numpy as np\n",
    "import pandas as pd\n",
    "import plotly.express as px\n",
    "import plotly.graph_objects as go\n",
    "import datetime\n",
    "\n",
    "# 1. Generate Dummy Data\n",
    "np.random.seed(42) # for reproducibility\n",
    "num_points = 10\n",
    "\n",
    "# Generate points somewhat clustered to show density better\n",
    "# Cluster 1\n",
    "vectors_2d_c1 = np.random.normal(loc=[3,3], scale=1, size=(num_points // 2, 2))\n",
    "# Cluster 2\n",
    "vectors_2d_c2 = np.random.normal(loc=[7,7], scale=1.2, size=(num_points - num_points // 2, 2))\n",
    "vectors_2d = np.vstack([vectors_2d_c1, vectors_2d_c2])\n",
    "\n",
    "\n",
    "contents = [f\"Topic {i+1}\\nDetail Line {chr(97+i)}\" for i in range(num_points)]\n",
    "# Convert newlines to <br> for Plotly annotations\n",
    "contents_html = [c.replace('\\n', '<br>') for c in contents]\n",
    "\n",
    "timestamps = [datetime.datetime.now() - datetime.timedelta(days=np.random.randint(1, 30)) for i in range(num_points)]\n",
    "timestamps_str = [ts.strftime('%Y-%m-%d %H:%M') for ts in timestamps]\n",
    "\n",
    "df = pd.DataFrame({\n",
    "    'x': vectors_2d[:, 0],\n",
    "    'y': vectors_2d[:, 1],\n",
    "    'content_html': contents_html,\n",
    "    'content': contents, # for hover if needed, not used in this version\n",
    "    'timestamp': timestamps_str\n",
    "})\n",
    "\n",
    "# 2. Create Density Contour Plot\n",
    "# Using a lower nbins for sparse data to get smoother contours\n",
    "fig = px.density_contour(df, x='x', y='y', nbinsx=5, nbinsy=5,)\n",
    "\n",
    "# Style the contour trace: filled, blue colorscale, no color bar\n",
    "fig.update_traces(\n",
    "    contours_coloring='fill',\n",
    "    colorscale='Blues', # Or a custom list of blue shades\n",
    "    contours_showlabels=False, # Hide contour line value labels\n",
    "    selector=dict(type='histogram2dcontour'),\n",
    "    opacity=0.7\n",
    ")\n",
    "# Hide the colorscale bar for the density contour\n",
    "fig.data[0].showscale = False\n",
    "\n",
    "fig.add_trace(px.scatter(df, x='x', y='y',\n",
    "                        hover_data=['content', 'timestamp'],\n",
    "                        opacity=0.7,\n",
    "                        color_discrete_sequence=['#222']).data[0])\n",
    "\n",
    "# 5. Layout and Styling\n",
    "fig.update_layout(\n",
    "    title_text='Memory Embeddings Visualization',\n",
    "    title_x=0.5, # Center title\n",
    "    template='plotly_white', # Clean background\n",
    "    showlegend=False,        # No legend for contours or scatter points\n",
    "    \n",
    "    # Hide axes completely for a minimalist look like the example\n",
    "    xaxis=dict(\n",
    "        showgrid=False,\n",
    "        zeroline=False,\n",
    "        visible=False # Hide ticks, line, labels\n",
    "    ),\n",
    "    yaxis=dict(\n",
    "        showgrid=False,\n",
    "        zeroline=False,\n",
    "        visible=False # Hide ticks, line, labels\n",
    "    ),\n",
    "    \n",
    "    # Adjust margins to give some space\n",
    "    margin=dict(l=20, r=20, t=50, b=20),\n",
    "    \n",
    ")\n",
    "\n",
    "fig.show()"
   ]
  },
  {
   "cell_type": "code",
   "execution_count": 23,
   "metadata": {},
   "outputs": [
    {
     "data": {
      "text/html": [
       "FastMCP allows you to add specialized<br>metadata to your tools through<br>annotations. These annotations<br>communicate how tools behave to client<br>applications without consuming token<br>context in LLM prompts."
      ],
      "text/plain": [
       "<IPython.core.display.HTML object>"
      ]
     },
     "metadata": {},
     "output_type": "display_data"
    }
   ],
   "source": [
    "import textwrap\n",
    "\n",
    "# import display html\n",
    "from IPython.display import HTML\n",
    "def wrap_text(text, width=100):\n",
    "    \"\"\"Wrap text with <br> tags for Plotly annotations.\"\"\"\n",
    "    return \"<br>\".join(textwrap.wrap(text, width))\n",
    "wrap_text('FastMCP allows you to add specialized metadata to your tools through annotations. These annotations communicate how tools behave to client applications without consuming token context in LLM prompts.')\n",
    "\n",
    "display(HTML(wrap_text('FastMCP allows you to add specialized metadata to your tools through annotations. These annotations communicate how tools behave to client applications without consuming token context in LLM prompts.')))\n"
   ]
  },
  {
   "cell_type": "code",
   "execution_count": 18,
   "metadata": {},
   "outputs": [
    {
     "name": "stdout",
     "output_type": "stream",
     "text": [
      "DataFrame of points closest to cluster centers:\n",
      "          x         y                 content  cluster\n",
      "3  4.579213  3.767435  Topic 4\\nDetail Line d        0\n",
      "6  7.290355  4.704064  Topic 7\\nDetail Line g        1\n",
      "2  2.765847  2.765863  Topic 3\\nDetail Line c        2\n",
      "5  6.443899  6.441124  Topic 6\\nDetail Line f        3\n",
      "7  4.930099  6.325255  Topic 8\\nDetail Line h        4\n"
     ]
    },
    {
     "data": {
      "application/vnd.plotly.v1+json": {
       "config": {
        "plotlyServerURL": "https://plot.ly"
       },
       "data": [
        {
         "colorscale": [
          [
           0,
           "rgb(247,251,255)"
          ],
          [
           0.125,
           "rgb(222,235,247)"
          ],
          [
           0.25,
           "rgb(198,219,239)"
          ],
          [
           0.375,
           "rgb(158,202,225)"
          ],
          [
           0.5,
           "rgb(107,174,214)"
          ],
          [
           0.625,
           "rgb(66,146,198)"
          ],
          [
           0.75,
           "rgb(33,113,181)"
          ],
          [
           0.875,
           "rgb(8,81,156)"
          ],
          [
           1,
           "rgb(8,48,107)"
          ]
         ],
         "contours": {
          "coloring": "fill",
          "showlabels": false
         },
         "hovertemplate": "x=%{x}<br>y=%{y}<br>count=%{z}<extra></extra>",
         "legendgroup": "",
         "line": {
          "color": "#636efa"
         },
         "name": "",
         "nbinsx": 10,
         "nbinsy": 10,
         "opacity": 0.6,
         "showlegend": false,
         "showscale": false,
         "type": "histogram2dcontour",
         "x": {
          "bdata": "ECYVRUX5C0CaFwlUdy4NQJyFCjJ0IAZAAh0QKh1REkAvzJA2hD4EQL7qF2aNxhlAwY/Pv1IpHUD6IYXEa7gTQMKa6OBuIxdAm/L3UjikF0A=",
          "dtype": "f8"
         },
         "xaxis": "x",
         "xbingroup": "x",
         "y": {
          "bdata": "rR+ir9XkBkCLaoAjlRcSQEzymM18IAZA/TW80bQjDkBfi1q4KVcMQJxHXha2wxlAR1aFE/bQEkBYnTSjD00ZQEJ9zqklgh1Aq5OTq484FUA=",
          "dtype": "f8"
         },
         "yaxis": "y",
         "ybingroup": "y"
        },
        {
         "customdata": [
          [
           "Topic 1\nDetail Line a",
           "2025-04-26 16:56"
          ],
          [
           "Topic 2\nDetail Line b",
           "2025-04-22 16:56"
          ],
          [
           "Topic 3\nDetail Line c",
           "2025-04-29 16:56"
          ],
          [
           "Topic 4\nDetail Line d",
           "2025-04-18 16:56"
          ],
          [
           "Topic 5\nDetail Line e",
           "2025-04-21 16:56"
          ],
          [
           "Topic 6\nDetail Line f",
           "2025-04-16 16:56"
          ],
          [
           "Topic 7\nDetail Line g",
           "2025-05-08 16:56"
          ],
          [
           "Topic 8\nDetail Line h",
           "2025-05-06 16:56"
          ],
          [
           "Topic 9\nDetail Line i",
           "2025-04-22 16:56"
          ],
          [
           "Topic 10\nDetail Line j",
           "2025-05-04 16:56"
          ]
         ],
         "hovertemplate": "<b>Content:</b> %{customdata[0]}<br><b>Timestamp:</b> %{customdata[1]}<extra></extra>",
         "marker": {
          "color": "#222222",
          "opacity": 0.7,
          "size": 7
         },
         "mode": "markers",
         "type": "scatter",
         "x": {
          "bdata": "ECYVRUX5C0CaFwlUdy4NQJyFCjJ0IAZAAh0QKh1REkAvzJA2hD4EQL7qF2aNxhlAwY/Pv1IpHUD6IYXEa7gTQMKa6OBuIxdAm/L3UjikF0A=",
          "dtype": "f8"
         },
         "y": {
          "bdata": "rR+ir9XkBkCLaoAjlRcSQEzymM18IAZA/TW80bQjDkBfi1q4KVcMQJxHXha2wxlAR1aFE/bQEkBYnTSjD00ZQEJ9zqklgh1Aq5OTq484FUA=",
          "dtype": "f8"
         }
        }
       ],
       "layout": {
        "annotations": [
         {
          "align": "left",
          "bgcolor": "rgba(255, 255, 255, 0.9)",
          "bordercolor": "#777777",
          "borderpad": 4,
          "borderwidth": 1,
          "font": {
           "color": "#111111",
           "family": "Arial, Sans-serif",
           "size": 10
          },
          "opacity": 1,
          "showarrow": false,
          "text": "Topic 4<br>Detail Line d",
          "x": 4.5792128155073915,
          "xanchor": "left",
          "xshift": 7,
          "y": 3.767434729152909,
          "yanchor": "bottom",
          "yshift": 7
         },
         {
          "align": "left",
          "bgcolor": "rgba(255, 255, 255, 0.9)",
          "bordercolor": "#777777",
          "borderpad": 4,
          "borderwidth": 1,
          "font": {
           "color": "#111111",
           "family": "Arial, Sans-serif",
           "size": 10
          },
          "opacity": 1,
          "showarrow": false,
          "text": "Topic 7<br>Detail Line g",
          "x": 7.290354725879241,
          "xanchor": "left",
          "xshift": 7,
          "y": 4.7040637064106425,
          "yanchor": "bottom",
          "yshift": 7
         },
         {
          "align": "left",
          "bgcolor": "rgba(255, 255, 255, 0.9)",
          "bordercolor": "#777777",
          "borderpad": 4,
          "borderwidth": 1,
          "font": {
           "color": "#111111",
           "family": "Arial, Sans-serif",
           "size": 10
          },
          "opacity": 1,
          "showarrow": false,
          "text": "Topic 3<br>Detail Line c",
          "x": 2.765846625276664,
          "xanchor": "left",
          "xshift": 7,
          "y": 2.7658630430508193,
          "yanchor": "bottom",
          "yshift": 7
         },
         {
          "align": "left",
          "bgcolor": "rgba(255, 255, 255, 0.9)",
          "bordercolor": "#777777",
          "borderpad": 4,
          "borderwidth": 1,
          "font": {
           "color": "#111111",
           "family": "Arial, Sans-serif",
           "size": 10
          },
          "opacity": 1,
          "showarrow": false,
          "text": "Topic 6<br>Detail Line f",
          "x": 6.443898768625045,
          "xanchor": "left",
          "xshift": 7,
          "y": 6.441124295715692,
          "yanchor": "bottom",
          "yshift": 7
         },
         {
          "align": "left",
          "bgcolor": "rgba(255, 255, 255, 0.9)",
          "bordercolor": "#777777",
          "borderpad": 4,
          "borderwidth": 1,
          "font": {
           "color": "#111111",
           "family": "Arial, Sans-serif",
           "size": 10
          },
          "opacity": 1,
          "showarrow": false,
          "text": "Topic 8<br>Detail Line h",
          "x": 4.93009860098436,
          "xanchor": "left",
          "xshift": 7,
          "y": 6.325254964910833,
          "yanchor": "bottom",
          "yshift": 7
         }
        ],
        "hovermode": "closest",
        "legend": {
         "tracegroupgap": 0
        },
        "margin": {
         "b": 20,
         "l": 20,
         "r": 20,
         "t": 60
        },
        "showlegend": false,
        "template": {
         "data": {
          "bar": [
           {
            "error_x": {
             "color": "#2a3f5f"
            },
            "error_y": {
             "color": "#2a3f5f"
            },
            "marker": {
             "line": {
              "color": "white",
              "width": 0.5
             },
             "pattern": {
              "fillmode": "overlay",
              "size": 10,
              "solidity": 0.2
             }
            },
            "type": "bar"
           }
          ],
          "barpolar": [
           {
            "marker": {
             "line": {
              "color": "white",
              "width": 0.5
             },
             "pattern": {
              "fillmode": "overlay",
              "size": 10,
              "solidity": 0.2
             }
            },
            "type": "barpolar"
           }
          ],
          "carpet": [
           {
            "aaxis": {
             "endlinecolor": "#2a3f5f",
             "gridcolor": "#C8D4E3",
             "linecolor": "#C8D4E3",
             "minorgridcolor": "#C8D4E3",
             "startlinecolor": "#2a3f5f"
            },
            "baxis": {
             "endlinecolor": "#2a3f5f",
             "gridcolor": "#C8D4E3",
             "linecolor": "#C8D4E3",
             "minorgridcolor": "#C8D4E3",
             "startlinecolor": "#2a3f5f"
            },
            "type": "carpet"
           }
          ],
          "choropleth": [
           {
            "colorbar": {
             "outlinewidth": 0,
             "ticks": ""
            },
            "type": "choropleth"
           }
          ],
          "contour": [
           {
            "colorbar": {
             "outlinewidth": 0,
             "ticks": ""
            },
            "colorscale": [
             [
              0,
              "#0d0887"
             ],
             [
              0.1111111111111111,
              "#46039f"
             ],
             [
              0.2222222222222222,
              "#7201a8"
             ],
             [
              0.3333333333333333,
              "#9c179e"
             ],
             [
              0.4444444444444444,
              "#bd3786"
             ],
             [
              0.5555555555555556,
              "#d8576b"
             ],
             [
              0.6666666666666666,
              "#ed7953"
             ],
             [
              0.7777777777777778,
              "#fb9f3a"
             ],
             [
              0.8888888888888888,
              "#fdca26"
             ],
             [
              1,
              "#f0f921"
             ]
            ],
            "type": "contour"
           }
          ],
          "contourcarpet": [
           {
            "colorbar": {
             "outlinewidth": 0,
             "ticks": ""
            },
            "type": "contourcarpet"
           }
          ],
          "heatmap": [
           {
            "colorbar": {
             "outlinewidth": 0,
             "ticks": ""
            },
            "colorscale": [
             [
              0,
              "#0d0887"
             ],
             [
              0.1111111111111111,
              "#46039f"
             ],
             [
              0.2222222222222222,
              "#7201a8"
             ],
             [
              0.3333333333333333,
              "#9c179e"
             ],
             [
              0.4444444444444444,
              "#bd3786"
             ],
             [
              0.5555555555555556,
              "#d8576b"
             ],
             [
              0.6666666666666666,
              "#ed7953"
             ],
             [
              0.7777777777777778,
              "#fb9f3a"
             ],
             [
              0.8888888888888888,
              "#fdca26"
             ],
             [
              1,
              "#f0f921"
             ]
            ],
            "type": "heatmap"
           }
          ],
          "histogram": [
           {
            "marker": {
             "pattern": {
              "fillmode": "overlay",
              "size": 10,
              "solidity": 0.2
             }
            },
            "type": "histogram"
           }
          ],
          "histogram2d": [
           {
            "colorbar": {
             "outlinewidth": 0,
             "ticks": ""
            },
            "colorscale": [
             [
              0,
              "#0d0887"
             ],
             [
              0.1111111111111111,
              "#46039f"
             ],
             [
              0.2222222222222222,
              "#7201a8"
             ],
             [
              0.3333333333333333,
              "#9c179e"
             ],
             [
              0.4444444444444444,
              "#bd3786"
             ],
             [
              0.5555555555555556,
              "#d8576b"
             ],
             [
              0.6666666666666666,
              "#ed7953"
             ],
             [
              0.7777777777777778,
              "#fb9f3a"
             ],
             [
              0.8888888888888888,
              "#fdca26"
             ],
             [
              1,
              "#f0f921"
             ]
            ],
            "type": "histogram2d"
           }
          ],
          "histogram2dcontour": [
           {
            "colorbar": {
             "outlinewidth": 0,
             "ticks": ""
            },
            "colorscale": [
             [
              0,
              "#0d0887"
             ],
             [
              0.1111111111111111,
              "#46039f"
             ],
             [
              0.2222222222222222,
              "#7201a8"
             ],
             [
              0.3333333333333333,
              "#9c179e"
             ],
             [
              0.4444444444444444,
              "#bd3786"
             ],
             [
              0.5555555555555556,
              "#d8576b"
             ],
             [
              0.6666666666666666,
              "#ed7953"
             ],
             [
              0.7777777777777778,
              "#fb9f3a"
             ],
             [
              0.8888888888888888,
              "#fdca26"
             ],
             [
              1,
              "#f0f921"
             ]
            ],
            "type": "histogram2dcontour"
           }
          ],
          "mesh3d": [
           {
            "colorbar": {
             "outlinewidth": 0,
             "ticks": ""
            },
            "type": "mesh3d"
           }
          ],
          "parcoords": [
           {
            "line": {
             "colorbar": {
              "outlinewidth": 0,
              "ticks": ""
             }
            },
            "type": "parcoords"
           }
          ],
          "pie": [
           {
            "automargin": true,
            "type": "pie"
           }
          ],
          "scatter": [
           {
            "fillpattern": {
             "fillmode": "overlay",
             "size": 10,
             "solidity": 0.2
            },
            "type": "scatter"
           }
          ],
          "scatter3d": [
           {
            "line": {
             "colorbar": {
              "outlinewidth": 0,
              "ticks": ""
             }
            },
            "marker": {
             "colorbar": {
              "outlinewidth": 0,
              "ticks": ""
             }
            },
            "type": "scatter3d"
           }
          ],
          "scattercarpet": [
           {
            "marker": {
             "colorbar": {
              "outlinewidth": 0,
              "ticks": ""
             }
            },
            "type": "scattercarpet"
           }
          ],
          "scattergeo": [
           {
            "marker": {
             "colorbar": {
              "outlinewidth": 0,
              "ticks": ""
             }
            },
            "type": "scattergeo"
           }
          ],
          "scattergl": [
           {
            "marker": {
             "colorbar": {
              "outlinewidth": 0,
              "ticks": ""
             }
            },
            "type": "scattergl"
           }
          ],
          "scattermap": [
           {
            "marker": {
             "colorbar": {
              "outlinewidth": 0,
              "ticks": ""
             }
            },
            "type": "scattermap"
           }
          ],
          "scattermapbox": [
           {
            "marker": {
             "colorbar": {
              "outlinewidth": 0,
              "ticks": ""
             }
            },
            "type": "scattermapbox"
           }
          ],
          "scatterpolar": [
           {
            "marker": {
             "colorbar": {
              "outlinewidth": 0,
              "ticks": ""
             }
            },
            "type": "scatterpolar"
           }
          ],
          "scatterpolargl": [
           {
            "marker": {
             "colorbar": {
              "outlinewidth": 0,
              "ticks": ""
             }
            },
            "type": "scatterpolargl"
           }
          ],
          "scatterternary": [
           {
            "marker": {
             "colorbar": {
              "outlinewidth": 0,
              "ticks": ""
             }
            },
            "type": "scatterternary"
           }
          ],
          "surface": [
           {
            "colorbar": {
             "outlinewidth": 0,
             "ticks": ""
            },
            "colorscale": [
             [
              0,
              "#0d0887"
             ],
             [
              0.1111111111111111,
              "#46039f"
             ],
             [
              0.2222222222222222,
              "#7201a8"
             ],
             [
              0.3333333333333333,
              "#9c179e"
             ],
             [
              0.4444444444444444,
              "#bd3786"
             ],
             [
              0.5555555555555556,
              "#d8576b"
             ],
             [
              0.6666666666666666,
              "#ed7953"
             ],
             [
              0.7777777777777778,
              "#fb9f3a"
             ],
             [
              0.8888888888888888,
              "#fdca26"
             ],
             [
              1,
              "#f0f921"
             ]
            ],
            "type": "surface"
           }
          ],
          "table": [
           {
            "cells": {
             "fill": {
              "color": "#EBF0F8"
             },
             "line": {
              "color": "white"
             }
            },
            "header": {
             "fill": {
              "color": "#C8D4E3"
             },
             "line": {
              "color": "white"
             }
            },
            "type": "table"
           }
          ]
         },
         "layout": {
          "annotationdefaults": {
           "arrowcolor": "#2a3f5f",
           "arrowhead": 0,
           "arrowwidth": 1
          },
          "autotypenumbers": "strict",
          "coloraxis": {
           "colorbar": {
            "outlinewidth": 0,
            "ticks": ""
           }
          },
          "colorscale": {
           "diverging": [
            [
             0,
             "#8e0152"
            ],
            [
             0.1,
             "#c51b7d"
            ],
            [
             0.2,
             "#de77ae"
            ],
            [
             0.3,
             "#f1b6da"
            ],
            [
             0.4,
             "#fde0ef"
            ],
            [
             0.5,
             "#f7f7f7"
            ],
            [
             0.6,
             "#e6f5d0"
            ],
            [
             0.7,
             "#b8e186"
            ],
            [
             0.8,
             "#7fbc41"
            ],
            [
             0.9,
             "#4d9221"
            ],
            [
             1,
             "#276419"
            ]
           ],
           "sequential": [
            [
             0,
             "#0d0887"
            ],
            [
             0.1111111111111111,
             "#46039f"
            ],
            [
             0.2222222222222222,
             "#7201a8"
            ],
            [
             0.3333333333333333,
             "#9c179e"
            ],
            [
             0.4444444444444444,
             "#bd3786"
            ],
            [
             0.5555555555555556,
             "#d8576b"
            ],
            [
             0.6666666666666666,
             "#ed7953"
            ],
            [
             0.7777777777777778,
             "#fb9f3a"
            ],
            [
             0.8888888888888888,
             "#fdca26"
            ],
            [
             1,
             "#f0f921"
            ]
           ],
           "sequentialminus": [
            [
             0,
             "#0d0887"
            ],
            [
             0.1111111111111111,
             "#46039f"
            ],
            [
             0.2222222222222222,
             "#7201a8"
            ],
            [
             0.3333333333333333,
             "#9c179e"
            ],
            [
             0.4444444444444444,
             "#bd3786"
            ],
            [
             0.5555555555555556,
             "#d8576b"
            ],
            [
             0.6666666666666666,
             "#ed7953"
            ],
            [
             0.7777777777777778,
             "#fb9f3a"
            ],
            [
             0.8888888888888888,
             "#fdca26"
            ],
            [
             1,
             "#f0f921"
            ]
           ]
          },
          "colorway": [
           "#636efa",
           "#EF553B",
           "#00cc96",
           "#ab63fa",
           "#FFA15A",
           "#19d3f3",
           "#FF6692",
           "#B6E880",
           "#FF97FF",
           "#FECB52"
          ],
          "font": {
           "color": "#2a3f5f"
          },
          "geo": {
           "bgcolor": "white",
           "lakecolor": "white",
           "landcolor": "white",
           "showlakes": true,
           "showland": true,
           "subunitcolor": "#C8D4E3"
          },
          "hoverlabel": {
           "align": "left"
          },
          "hovermode": "closest",
          "mapbox": {
           "style": "light"
          },
          "paper_bgcolor": "white",
          "plot_bgcolor": "white",
          "polar": {
           "angularaxis": {
            "gridcolor": "#EBF0F8",
            "linecolor": "#EBF0F8",
            "ticks": ""
           },
           "bgcolor": "white",
           "radialaxis": {
            "gridcolor": "#EBF0F8",
            "linecolor": "#EBF0F8",
            "ticks": ""
           }
          },
          "scene": {
           "xaxis": {
            "backgroundcolor": "white",
            "gridcolor": "#DFE8F3",
            "gridwidth": 2,
            "linecolor": "#EBF0F8",
            "showbackground": true,
            "ticks": "",
            "zerolinecolor": "#EBF0F8"
           },
           "yaxis": {
            "backgroundcolor": "white",
            "gridcolor": "#DFE8F3",
            "gridwidth": 2,
            "linecolor": "#EBF0F8",
            "showbackground": true,
            "ticks": "",
            "zerolinecolor": "#EBF0F8"
           },
           "zaxis": {
            "backgroundcolor": "white",
            "gridcolor": "#DFE8F3",
            "gridwidth": 2,
            "linecolor": "#EBF0F8",
            "showbackground": true,
            "ticks": "",
            "zerolinecolor": "#EBF0F8"
           }
          },
          "shapedefaults": {
           "line": {
            "color": "#2a3f5f"
           }
          },
          "ternary": {
           "aaxis": {
            "gridcolor": "#DFE8F3",
            "linecolor": "#A2B1C6",
            "ticks": ""
           },
           "baxis": {
            "gridcolor": "#DFE8F3",
            "linecolor": "#A2B1C6",
            "ticks": ""
           },
           "bgcolor": "white",
           "caxis": {
            "gridcolor": "#DFE8F3",
            "linecolor": "#A2B1C6",
            "ticks": ""
           }
          },
          "title": {
           "x": 0.05
          },
          "xaxis": {
           "automargin": true,
           "gridcolor": "#EBF0F8",
           "linecolor": "#EBF0F8",
           "ticks": "",
           "title": {
            "standoff": 15
           },
           "zerolinecolor": "#EBF0F8",
           "zerolinewidth": 2
          },
          "yaxis": {
           "automargin": true,
           "gridcolor": "#EBF0F8",
           "linecolor": "#EBF0F8",
           "ticks": "",
           "title": {
            "standoff": 15
           },
           "zerolinecolor": "#EBF0F8",
           "zerolinewidth": 2
          }
         }
        },
        "title": {
         "font": {
          "size": 16
         },
         "text": "Memory Embeddings Visualization",
         "x": 0.5
        },
        "xaxis": {
         "anchor": "y",
         "domain": [
          0,
          1
         ],
         "showgrid": false,
         "title": {
          "text": "x"
         },
         "visible": false,
         "zeroline": false
        },
        "yaxis": {
         "anchor": "x",
         "domain": [
          0,
          1
         ],
         "showgrid": false,
         "title": {
          "text": "y"
         },
         "visible": false,
         "zeroline": false
        }
       }
      }
     },
     "metadata": {},
     "output_type": "display_data"
    }
   ],
   "source": [
    "import numpy as np\n",
    "import pandas as pd\n",
    "import plotly.express as px\n",
    "import plotly.graph_objects as go\n",
    "import datetime\n",
    "from sklearn.cluster import KMeans\n",
    "from scipy.spatial import distance \n",
    "\n",
    "\n",
    "cluster_number = 5\n",
    "# 2. Perform Clustering\n",
    "kmeans = KMeans(n_clusters=cluster_number, random_state=42, n_init='auto')\n",
    "df['cluster'] = kmeans.fit_predict(vectors_2d)\n",
    "cluster_centers = kmeans.cluster_centers_\n",
    "\n",
    "# 3. Find Closest Point to each Cluster Center\n",
    "closest_points_indices = []\n",
    "for i in range(len(cluster_centers)):\n",
    "    center = cluster_centers[i]\n",
    "    points_in_cluster = df[df['cluster'] == i][['x', 'y']].values\n",
    "    \n",
    "    if len(points_in_cluster) == 0: # Should not happen with this data\n",
    "        continue\n",
    "        \n",
    "    # Calculate distances from the center to all points in this cluster\n",
    "    distances_to_center = [distance.euclidean(point, center) for point in points_in_cluster]\n",
    "    \n",
    "    # Find the index of the minimum distance *within the subset of points_in_cluster*\n",
    "    min_dist_idx_in_subset = np.argmin(distances_to_center)\n",
    "    \n",
    "    # Get the original index from the main dataframe\n",
    "    original_idx = df[df['cluster'] == i].index[min_dist_idx_in_subset]\n",
    "    closest_points_indices.append(original_idx)\n",
    "\n",
    "df_closest_points = df.loc[closest_points_indices]\n",
    "print(\"DataFrame of points closest to cluster centers:\")\n",
    "print(df_closest_points[['x', 'y', 'content', 'cluster']])\n",
    "\n",
    "# 4. Create Plot\n",
    "# Base density contour\n",
    "fig = px.density_contour(df, x='x', y='y',\n",
    "                         nbinsx=cluster_number * 2, nbinsy=cluster_number * 2) # nbinsx/y from previous good version\n",
    "\n",
    "# Style the contour trace\n",
    "fig.update_traces(\n",
    "    contours_coloring='fill',\n",
    "    colorscale='Blues',\n",
    "    contours_showlabels=False,\n",
    "    opacity=0.6, # Slightly more transparent to see points better\n",
    "    selector=dict(type='histogram2dcontour')\n",
    ")\n",
    "if len(fig.data) > 0 and isinstance(fig.data[0], go.Histogram2dContour):\n",
    "    fig.data[0].showscale = False\n",
    "\n",
    "# Add ALL scatter points (not just the closest ones)\n",
    "# The user's snippet used px.scatter().data[0], which is a way to add a trace\n",
    "# Let's use go.Scatter for more direct control and consistency\n",
    "fig.add_trace(go.Scatter(\n",
    "    x=df['x'],\n",
    "    y=df['y'],\n",
    "    mode='markers',\n",
    "    marker=dict(\n",
    "        color='#222222', # Dark markers\n",
    "        size=7,\n",
    "        opacity=0.7\n",
    "    ),\n",
    "    # Add hover data for ALL points\n",
    "    customdata=df[['content', 'timestamp']],\n",
    "    hovertemplate=\"<b>Content:</b> %{customdata[0]}<br><b>Timestamp:</b> %{customdata[1]}<extra></extra>\"\n",
    "))\n",
    "\n",
    "\n",
    "# Add Text Labels with Boxes ONLY for the closest points\n",
    "for i, row in df_closest_points.iterrows():\n",
    "    fig.add_annotation(\n",
    "        x=row['x'],\n",
    "        y=row['y'],\n",
    "        text=row['content_html'], # Use HTML formatted content\n",
    "        showarrow=False,\n",
    "        xanchor=\"left\",\n",
    "        yanchor=\"bottom\",\n",
    "        xshift=7,\n",
    "        yshift=7,\n",
    "        font=dict(family=\"Arial, Sans-serif\", size=10, color=\"#111111\"),\n",
    "        align=\"left\",\n",
    "        bordercolor=\"#777777\",\n",
    "        borderwidth=1,\n",
    "        borderpad=4,\n",
    "        bgcolor=\"rgba(255, 255, 255, 0.9)\", # Slightly more opaque box\n",
    "        opacity=1\n",
    "    )\n",
    "\n",
    "# Layout and Styling (similar to previous good version)\n",
    "fig.update_layout(\n",
    "    title_text='Memory Embeddings Visualization',\n",
    "    title_font_size=16,\n",
    "    title_x=0.5,\n",
    "    template='plotly_white',\n",
    "    showlegend=False,\n",
    "    xaxis=dict(showgrid=False, zeroline=False, visible=False),\n",
    "    yaxis=dict(showgrid=False, zeroline=False, visible=False),\n",
    "    margin=dict(l=20, r=20, t=60, b=20),\n",
    "    hovermode='closest' # Enable hover for the scatter trace\n",
    ")"
   ]
  },
  {
   "cell_type": "code",
   "execution_count": null,
   "metadata": {},
   "outputs": [],
   "source": []
  }
 ],
 "metadata": {
  "kernelspec": {
   "display_name": "venv",
   "language": "python",
   "name": "python3"
  },
  "language_info": {
   "codemirror_mode": {
    "name": "ipython",
    "version": 3
   },
   "file_extension": ".py",
   "mimetype": "text/x-python",
   "name": "python",
   "nbconvert_exporter": "python",
   "pygments_lexer": "ipython3",
   "version": "3.11.5"
  }
 },
 "nbformat": 4,
 "nbformat_minor": 2
}
